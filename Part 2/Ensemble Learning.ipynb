{
 "cells": [
  {
   "cell_type": "code",
   "execution_count": 1,
   "metadata": {},
   "outputs": [
    {
     "data": {
      "text/html": [
       "<style>.container { width:98% !important; }</style>"
      ],
      "text/plain": [
       "<IPython.core.display.HTML object>"
      ]
     },
     "metadata": {},
     "output_type": "display_data"
    }
   ],
   "source": [
    "# CSC 732 Final Part 2 Problem 1 Ensemble Classifier\n",
    "# Dominic Klusek, Jonathan Rozen\n",
    "from IPython.core.display import display, HTML\n",
    "display(HTML(\"<style>.container { width:98% !important; }</style>\"))"
   ]
  },
  {
   "cell_type": "code",
   "execution_count": 2,
   "metadata": {},
   "outputs": [
    {
     "name": "stderr",
     "output_type": "stream",
     "text": [
      "Using TensorFlow backend.\n"
     ]
    }
   ],
   "source": [
    "import keras\n",
    "from keras.datasets import mnist\n",
    "from keras.models import Sequential\n",
    "from keras.layers.normalization import BatchNormalization\n",
    "from keras.layers.convolutional import Conv2D, MaxPooling2D \n",
    "from keras.layers.core import Flatten, Dropout, Dense, Activation\n",
    "from keras.preprocessing.image import ImageDataGenerator\n",
    "from keras.utils import to_categorical\n",
    "from keras import backend as K\n",
    "from skimage import transform\n",
    "from sklearn.utils import shuffle\n",
    "from sklearn.metrics import accuracy_score, classification_report\n",
    "import matplotlib.image as mpimg\n",
    "import matplotlib.pyplot as plt\n",
    "import seaborn as sns\n",
    "import numpy as np\n",
    "import pickle\n",
    "import os\n",
    "import glob\n",
    "import tqdm"
   ]
  },
  {
   "cell_type": "code",
   "execution_count": 3,
   "metadata": {},
   "outputs": [],
   "source": [
    "classifier_1 = keras.models.load_model('dice_relu_softmax_Adagrad_less_steps.h5')\n",
    "classifier_2 = keras.models.load_model('dice_relu_softmax_Adam_less_steps.h5')\n",
    "classifier_3 = keras.models.load_model('dice_relu_softmax_RMSProp_less_steps.h5')"
   ]
  },
  {
   "cell_type": "code",
   "execution_count": 4,
   "metadata": {},
   "outputs": [],
   "source": [
    "# create image generator\n",
    "datagenerator = ImageDataGenerator(\n",
    "rescale=1./255.,\n",
    "rotation_range=40,\n",
    "width_shift_range=0.2,\n",
    "height_shift_range=0.2,\n",
    "shear_range=0.2,\n",
    "zoom_range=0.2)"
   ]
  },
  {
   "cell_type": "code",
   "execution_count": 5,
   "metadata": {},
   "outputs": [
    {
     "name": "stderr",
     "output_type": "stream",
     "text": [
      "100%|██████████████████████████████████████████████████████████████████████████████| 1603/1603 [00:37<00:00, 42.37it/s]\n",
      "100%|██████████████████████████████████████████████████████████████████████████████| 3301/3301 [01:14<00:00, 44.29it/s]\n",
      "100%|██████████████████████████████████████████████████████████████████████████████| 1096/1096 [00:26<00:00, 41.27it/s]\n",
      "100%|██████████████████████████████████████████████████████████████████████████████| 1379/1379 [00:33<00:00, 40.99it/s]\n",
      "100%|██████████████████████████████████████████████████████████████████████████████| 1142/1142 [00:27<00:00, 41.51it/s]\n",
      "100%|██████████████████████████████████████████████████████████████████████████████| 2590/2590 [00:59<00:00, 43.35it/s]\n"
     ]
    }
   ],
   "source": [
    "# lists to hold train images and train labels\n",
    "X_train = []\n",
    "Y_train = []\n",
    "\n",
    "# load in images and labels based on how generators label data\n",
    "# for each file in class folder\n",
    "for file in tqdm.tqdm(glob.glob('Datasets/train/d4/*.jpg')):\n",
    "    # append original image\n",
    "    # load image\n",
    "    image = plt.imread(file)\n",
    "    # resize to 100x100\n",
    "    image = transform.resize(image, (100,100))\n",
    "    # append image and label to appropriate lists\n",
    "    X_train.append(image)\n",
    "    Y_train.append(3)\n",
    "    \n",
    "    # create some random images, and append to list\n",
    "    img_tensor = image\n",
    "    img_tensor = datagenerator.apply_transform(img_tensor, datagenerator.get_random_transform(img_tensor.shape))\n",
    "    X_train.append(img_tensor)\n",
    "    Y_train.append(3)\n",
    "    \n",
    "# for each file in class folder\n",
    "for file in tqdm.tqdm(glob.glob('Datasets/train/d6/*.jpg')):\n",
    "    # load image\n",
    "    image = plt.imread(file)\n",
    "    # resize to 100x100\n",
    "    image = transform.resize(image, (100,100))\n",
    "    # append image and label to appropriate lists\n",
    "    X_train.append(image)\n",
    "    Y_train.append(4)\n",
    "    \n",
    "# for each file in class folder\n",
    "for file in tqdm.tqdm(glob.glob('Datasets/train/d8/*.jpg')):\n",
    "    # load image\n",
    "    image = plt.imread(file)\n",
    "    # resize to 100x100\n",
    "    image = transform.resize(image, (100,100))\n",
    "    # append image and label to appropriate lists\n",
    "    X_train.append(image)\n",
    "    Y_train.append(5)\n",
    "    \n",
    "    # create some random images, and append to list\n",
    "    img_tensor = image\n",
    "    img_tensor = datagenerator.apply_transform(img_tensor, datagenerator.get_random_transform(img_tensor.shape))\n",
    "    X_train.append(img_tensor)\n",
    "    Y_train.append(5)\n",
    "    \n",
    "# for each file in class folder\n",
    "for file in tqdm.tqdm(glob.glob('Datasets/train/d10/*.jpg')):\n",
    "    # load image\n",
    "    image = plt.imread(file)\n",
    "    # resize to 100x100\n",
    "    image = transform.resize(image, (100,100))\n",
    "    # append image and label to appropriate lists\n",
    "    X_train.append(image)\n",
    "    Y_train.append(0)\n",
    "    \n",
    "    # create some random images, and append to list\n",
    "    img_tensor = image\n",
    "    img_tensor = datagenerator.apply_transform(img_tensor, datagenerator.get_random_transform(img_tensor.shape))\n",
    "    X_train.append(img_tensor)\n",
    "    Y_train.append(0)\n",
    "\n",
    "# for each file in class folder\n",
    "for file in tqdm.tqdm(glob.glob('Datasets/train/d12/*.jpg')):\n",
    "    # load image\n",
    "    image = plt.imread(file)\n",
    "    # resize to 100x100\n",
    "    image = transform.resize(image, (100,100,3))\n",
    "    # append image and label to appropriate lists\n",
    "    X_train.append(image)\n",
    "    Y_train.append(1)\n",
    "    \n",
    "    # create some random images, and append to list\n",
    "    img_tensor = image\n",
    "    img_tensor = datagenerator.apply_transform(img_tensor, datagenerator.get_random_transform(img_tensor.shape))\n",
    "    X_train.append(img_tensor)\n",
    "    Y_train.append(1)\n",
    "\n",
    "# for each file in class folder\n",
    "for file in tqdm.tqdm(glob.glob('Datasets/train/d20/*.jpg')):\n",
    "    # load image\n",
    "    image = plt.imread(file)\n",
    "    # resize to 100x100\n",
    "    image = transform.resize(image, (100,100))\n",
    "    # append image and label to appropriate lists\n",
    "    X_train.append(image)\n",
    "    Y_train.append(2)\n",
    "    \n",
    "# convert lists to arrays\n",
    "X_train = np.array(X_train)\n",
    "Y_train = np.array(Y_train)"
   ]
  },
  {
   "cell_type": "code",
   "execution_count": 6,
   "metadata": {},
   "outputs": [],
   "source": [
    "# lists to hold test images and test labels\n",
    "X_test = []\n",
    "Y_test = []\n",
    "\n",
    "# load in images and labels based on how generators label data\n",
    "# for each file in class folder\n",
    "for file in glob.glob('Datasets/test/d4/*.jpg'):\n",
    "    # load image\n",
    "    image = plt.imread(file)\n",
    "    # resize to 100x100\n",
    "    image = transform.resize(image, (100,100))\n",
    "    # append image and label to appropriate lists\n",
    "    X_test.append(image)\n",
    "    Y_test.append(3)\n",
    "    \n",
    "# for each file in class folder\n",
    "for file in glob.glob('Datasets/test/d6/*.jpg'):\n",
    "    # load image\n",
    "    image = plt.imread(file)\n",
    "    # resize to 100x100\n",
    "    image = transform.resize(image, (100,100))\n",
    "    # append image and label to appropriate lists\n",
    "    X_test.append(image)\n",
    "    Y_test.append(4)\n",
    "    \n",
    "# for each file in class folder\n",
    "for file in glob.glob('Datasets/test/d8/*.jpg'):\n",
    "    # load image\n",
    "    image = plt.imread(file)\n",
    "    # resize to 100x100\n",
    "    image = transform.resize(image, (100,100))\n",
    "    # append image and label to appropriate lists\n",
    "    X_test.append(image)\n",
    "    Y_test.append(5)\n",
    "    \n",
    "# for each file in class folder\n",
    "for file in glob.glob('Datasets/test/d10/*.jpg'):\n",
    "    # load image\n",
    "    image = plt.imread(file)\n",
    "    # resize to 100x100\n",
    "    image = transform.resize(image, (100,100))\n",
    "    # append image and label to appropriate lists\n",
    "    X_test.append(image)\n",
    "    Y_test.append(0)\n",
    "\n",
    "# for each file in class folder\n",
    "for file in glob.glob('Datasets/test/d12/*.jpg'):\n",
    "    # load image\n",
    "    image = plt.imread(file)\n",
    "    # resize to 100x100\n",
    "    image = transform.resize(image, (100,100,3))\n",
    "    # append image and label to appropriate lists\n",
    "    X_test.append(image)\n",
    "    Y_test.append(1)\n",
    "\n",
    "# for each file in class folder\n",
    "for file in glob.glob('Datasets/test/d20/*.jpg'):\n",
    "    # load image\n",
    "    image = plt.imread(file)\n",
    "    # resize to 100x100\n",
    "    image = transform.resize(image, (100,100))\n",
    "    # append image and label to appropriate lists\n",
    "    X_test.append(image)\n",
    "    Y_test.append(2)\n",
    "    \n",
    "# convert lists to arrays\n",
    "X_test = np.array(X_test)\n",
    "\n",
    "# shuffle test dataset\n",
    "X_test, Y_test = shuffle(X_test, Y_test, random_state=0)"
   ]
  },
  {
   "cell_type": "code",
   "execution_count": 7,
   "metadata": {},
   "outputs": [],
   "source": [
    "from sklearn.preprocessing import OneHotEncoder"
   ]
  },
  {
   "cell_type": "code",
   "execution_count": 8,
   "metadata": {},
   "outputs": [],
   "source": [
    "# convert class labels to categorical\n",
    "encoder = OneHotEncoder(sparse=False)\n",
    "encoder.fit(np.expand_dims(Y_train, axis=1))\n",
    "Y_test_cat = encoder.transform(np.expand_dims(Y_test, axis=1))"
   ]
  },
  {
   "cell_type": "code",
   "execution_count": 9,
   "metadata": {},
   "outputs": [
    {
     "name": "stdout",
     "output_type": "stream",
     "text": [
      "1576/1576 [==============================] - 2s 1ms/step\n",
      "Test Loss: 0.0588\n",
      "Test Accuracy: 99.1117\n"
     ]
    }
   ],
   "source": [
    "#model.load_weights('cats_and_dogs_relu_sigmoid_Adam.h5')\n",
    "# Evaluate classifier with test image generator\n",
    "evaluation = classifier_1.evaluate(X_test, Y_test_cat, verbose=1)\n",
    "print(\"Test Loss: %.4f\" % evaluation[0])\n",
    "print(\"Test Accuracy: %.4f\" % (evaluation[1]*100))"
   ]
  },
  {
   "cell_type": "code",
   "execution_count": 10,
   "metadata": {},
   "outputs": [
    {
     "name": "stdout",
     "output_type": "stream",
     "text": [
      "1576/1576 [==============================] - 1s 428us/step\n",
      "Test Loss: 0.0381\n",
      "Test Accuracy: 99.4289\n"
     ]
    }
   ],
   "source": [
    "#model.load_weights('cats_and_dogs_relu_sigmoid_Adam.h5')\n",
    "# Evaluate classifier with test image generator\n",
    "evaluation = classifier_2.evaluate(X_test, Y_test_cat, verbose=1)\n",
    "print(\"Test Loss: %.4f\" % evaluation[0])\n",
    "print(\"Test Accuracy: %.4f\" % (evaluation[1]*100))"
   ]
  },
  {
   "cell_type": "code",
   "execution_count": 11,
   "metadata": {},
   "outputs": [
    {
     "name": "stdout",
     "output_type": "stream",
     "text": [
      "1576/1576 [==============================] - 1s 425us/step\n",
      "Test Loss: 0.0375\n",
      "Test Accuracy: 99.4924\n"
     ]
    }
   ],
   "source": [
    "#model.load_weights('cats_and_dogs_relu_sigmoid_Adam.h5')\n",
    "# Evaluate classifier with test image generator\n",
    "evaluation = classifier_3.evaluate(X_test, Y_test_cat, verbose=1)\n",
    "print(\"Test Loss: %.4f\" % evaluation[0])\n",
    "print(\"Test Accuracy: %.4f\" % (evaluation[1]*100))"
   ]
  },
  {
   "cell_type": "code",
   "execution_count": 12,
   "metadata": {},
   "outputs": [],
   "source": [
    "# make an ensemble prediction for multi-class classification\n",
    "def ensemble_predictions(classifiers, X_test):\n",
    "    # make predictions\n",
    "    yhats = [model.predict(X_test) for model in classifiers]\n",
    "    yhats = np.array(yhats)\n",
    "    # sum across ensemble members\n",
    "    summed = np.sum(yhats, axis=0)\n",
    "    # argmax across classes\n",
    "    result = np.argmax(summed, axis=-1)\n",
    "    return np.reshape(result, (-1,1))\n",
    " \n",
    "# evaluate ensemble model\n",
    "def evaluate_members(classifiers, X_test, Y_test):\n",
    "    Y_test = np.argmax(Y_test, axis=-1)\n",
    "    # make prediction\n",
    "    yhat = ensemble_predictions(classifiers, X_test)\n",
    "    print(classification_report(Y_test, yhat, digits=4))\n",
    "    # calculate accuracy\n",
    "    return "
   ]
  },
  {
   "cell_type": "code",
   "execution_count": 13,
   "metadata": {},
   "outputs": [],
   "source": [
    "# get predicting using hard voting\n",
    "predictions = encoder.transform(ensemble_predictions([classifier_1, classifier_2, classifier_3], X_test))"
   ]
  },
  {
   "cell_type": "code",
   "execution_count": 14,
   "metadata": {},
   "outputs": [],
   "source": [
    "from sklearn.metrics import r2_score, confusion_matrix, classification_report\n",
    "from sklearn.metrics import mean_squared_error, roc_curve, auc, confusion_matrix\n",
    "from scipy import interp\n",
    "from itertools import cycle"
   ]
  },
  {
   "cell_type": "code",
   "execution_count": 18,
   "metadata": {},
   "outputs": [
    {
     "name": "stderr",
     "output_type": "stream",
     "text": [
      "C:\\Users\\kluse\\Anaconda3\\envs\\MLearning\\lib\\site-packages\\ipykernel_launcher.py:19: DeprecationWarning: scipy.interp is deprecated and will be removed in SciPy 2.0.0, use numpy.interp instead\n"
     ]
    },
    {
     "data": {
      "image/png": "[encoded data removed]",
      "text/plain": [
       "<Figure size 1080x720 with 1 Axes>"
      ]
     },
     "metadata": {},
     "output_type": "display_data"
    }
   ],
   "source": [
    "# Compute ROC curve and ROC area for each class\n",
    "fpr = dict()\n",
    "tpr = dict()\n",
    "roc_auc = dict()\n",
    "for i in range(6):\n",
    "    fpr[i], tpr[i], _ = roc_curve(Y_test_cat[:, i], predictions[:, i])\n",
    "    roc_auc[i] = auc(fpr[i], tpr[i])\n",
    "\n",
    "# Compute micro-average ROC curve and ROC area\n",
    "fpr[\"micro\"], tpr[\"micro\"], _ = roc_curve(Y_test_cat.ravel(), predictions.ravel())\n",
    "roc_auc[\"micro\"] = auc(fpr[\"micro\"], tpr[\"micro\"])\n",
    "\n",
    "# First aggregate all false positive rates\n",
    "all_fpr = np.unique(np.concatenate([fpr[i] for i in range(6)]))\n",
    "\n",
    "# Then interpolate all ROC curves at this points\n",
    "mean_tpr = np.zeros_like(all_fpr)\n",
    "for i in range(6):\n",
    "    mean_tpr += interp(all_fpr, fpr[i], tpr[i])\n",
    "\n",
    "# Finally average it and compute AUC\n",
    "mean_tpr /= 6\n",
    "\n",
    "fpr[\"macro\"] = all_fpr\n",
    "tpr[\"macro\"] = mean_tpr\n",
    "roc_auc[\"macro\"] = auc(fpr[\"macro\"], tpr[\"macro\"])\n",
    "\n",
    "# set line width of graphs\n",
    "lw = 5\n",
    "\n",
    "# Plot all ROC curves\n",
    "plt.figure(figsize=(15,10), facecolor='w')\n",
    "plt.plot(fpr[\"micro\"], tpr[\"micro\"],\n",
    "         label='micro-average ROC curve (area = {0:0.4f})'\n",
    "               ''.format(roc_auc[\"micro\"]),\n",
    "         color='deeppink', linestyle=':', linewidth=4)\n",
    "\n",
    "plt.plot(fpr[\"macro\"], tpr[\"macro\"],\n",
    "         label='macro-average ROC curve (area = {0:0.4f})'\n",
    "               ''.format(roc_auc[\"macro\"]),\n",
    "         color='navy', linestyle=':', linewidth=4)\n",
    "\n",
    "colors = cycle(['aqua', 'darkorange', 'cornflowerblue', 'fuchsia', 'crimson', 'slategray'])\n",
    "for i, color in zip(range(6), colors):\n",
    "    plt.plot(fpr[i], tpr[i], color=color, lw=lw,\n",
    "             label='ROC curve of class {0} (area = {1:0.4f})'\n",
    "             ''.format(i, roc_auc[i]))\n",
    "\n",
    "plt.plot([0, 1], [0, 1], 'k--', lw=lw)\n",
    "plt.xlim([0.0, 1.0])\n",
    "plt.ylim([0.0, 1.05])\n",
    "plt.xlabel('False Positive Rate')\n",
    "plt.ylabel('True Positive Rate')\n",
    "plt.title('Multiclass ROC')\n",
    "plt.legend(loc=\"lower right\")\n",
    "plt.show()"
   ]
  },
  {
   "cell_type": "code",
   "execution_count": 16,
   "metadata": {},
   "outputs": [
    {
     "data": {
      "text/plain": [
       "<matplotlib.axes._subplots.AxesSubplot at 0x1ccb2e1fd68>"
      ]
     },
     "execution_count": 16,
     "metadata": {},
     "output_type": "execute_result"
    },
    {
     "data": {
      "image/png": "[encoded data removed]",
      "text/plain": [
       "<Figure size 1080x720 with 2 Axes>"
      ]
     },
     "metadata": {},
     "output_type": "display_data"
    }
   ],
   "source": [
    "# plot confusion matrix\n",
    "plt.figure(figsize=(15,10), facecolor='w')\n",
    "numerical_Y_test = encoder.inverse_transform(Y_test_cat)[:,0]\n",
    "numerical_predictions = encoder.inverse_transform(predictions)[:,0]\n",
    "sns.heatmap(confusion_matrix(numerical_Y_test, numerical_predictions, normalize='all'), fmt='.4f', annot=True)"
   ]
  },
  {
   "cell_type": "code",
   "execution_count": 17,
   "metadata": {},
   "outputs": [
    {
     "name": "stdout",
     "output_type": "stream",
     "text": [
      "              precision    recall  f1-score   support\n",
      "\n",
      "           0     0.9864    0.9954    0.9909       219\n",
      "           1     0.9944    1.0000    0.9972       176\n",
      "           2     1.0000    0.9861    0.9930       359\n",
      "           3     1.0000    1.0000    1.0000       205\n",
      "           4     0.9894    0.9936    0.9915       470\n",
      "           5     1.0000    1.0000    1.0000       147\n",
      "\n",
      "    accuracy                         0.9943      1576\n",
      "   macro avg     0.9950    0.9959    0.9954      1576\n",
      "weighted avg     0.9943    0.9943    0.9943      1576\n",
      "\n"
     ]
    }
   ],
   "source": [
    "evaluate_members([classifier_1, classifier_2, classifier_3], X_test, Y_test_cat)"
   ]
  },
  {
   "cell_type": "code",
   "execution_count": null,
   "metadata": {},
   "outputs": [],
   "source": []
  }
 ],
 "metadata": {
  "kernelspec": {
   "display_name": "Python 3",
   "language": "python",
   "name": "python3"
  },
  "language_info": {
   "codemirror_mode": {
    "name": "ipython",
    "version": 3
   },
   "file_extension": ".py",
   "mimetype": "text/x-python",
   "name": "python",
   "nbconvert_exporter": "python",
   "pygments_lexer": "ipython3",
   "version": "3.6.4"
  }
 },
 "nbformat": 4,
 "nbformat_minor": 4
}
