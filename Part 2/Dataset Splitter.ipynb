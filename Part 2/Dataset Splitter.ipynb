{
 "cells": [
  {
   "cell_type": "code",
   "execution_count": 1,
   "metadata": {},
   "outputs": [],
   "source": [
    "import math\n",
    "import glob\n",
    "import random\n",
    "import os\n",
    "from skimage.io import imsave\n",
    "import matplotlib.pyplot as plt\n",
    "import time\n",
    "import tqdm\n",
    "import os\n",
    "import shutil"
   ]
  },
  {
   "cell_type": "code",
   "execution_count": 2,
   "metadata": {},
   "outputs": [],
   "source": [
    "file_list = glob.glob('Datasets/Dice/dataset/*/*.jpg')\n",
    "file_labels = []"
   ]
  },
  {
   "cell_type": "code",
   "execution_count": 3,
   "metadata": {},
   "outputs": [],
   "source": [
    "for file in file_list:\n",
    "    if(file.find('d4') != -1):\n",
    "        file_labels.append('d4')\n",
    "    elif(file.find('d6') != -1):\n",
    "        file_labels.append('d6')\n",
    "    elif(file.find('d8') != -1):\n",
    "        file_labels.append('d8')\n",
    "    elif(file.find('d10') != -1):\n",
    "        file_labels.append('d10')\n",
    "    elif(file.find('d12') != -1):\n",
    "        file_labels.append('d12')\n",
    "    elif(file.find('d20') != -1):\n",
    "        file_labels.append('d20')"
   ]
  },
  {
   "cell_type": "code",
   "execution_count": 4,
   "metadata": {},
   "outputs": [],
   "source": [
    "import random\n",
    "c = list(zip(file_list, file_labels))\n",
    "random.shuffle(c)\n",
    "file_list, file_labels = zip(*c)"
   ]
  },
  {
   "cell_type": "code",
   "execution_count": 5,
   "metadata": {},
   "outputs": [],
   "source": [
    "# find files in each folder of dataset\n",
    "d4_list = os.listdir('Datasets/Dice/dataset/d4')\n",
    "d6_list = os.listdir('Datasets/Dice/dataset/d6')\n",
    "d8_list = os.listdir('Datasets/Dice/dataset/d8')\n",
    "d10_list = os.listdir('Datasets/Dice/dataset/d10')\n",
    "d12_list = os.listdir('Datasets/Dice/dataset/d12')\n",
    "d20_list = os.listdir('Datasets/Dice/dataset/d20')"
   ]
  },
  {
   "cell_type": "code",
   "execution_count": 6,
   "metadata": {},
   "outputs": [],
   "source": [
    "train_split_ratio = 0.7\n",
    "validation_split_ratio = 0.2\n",
    "test_split_ratio = 0.1"
   ]
  },
  {
   "cell_type": "code",
   "execution_count": 7,
   "metadata": {},
   "outputs": [
    {
     "name": "stdout",
     "output_type": "stream",
     "text": [
      "2225\n",
      "4650\n",
      "1750\n",
      "1968\n",
      "1932\n",
      "3861\n"
     ]
    }
   ],
   "source": [
    "d4_size = len(d4_list)\n",
    "d6_size = len(d6_list)\n",
    "d8_size = len(d8_list)\n",
    "d10_size = len(d10_list)\n",
    "d12_size = len(d12_list)\n",
    "d20_size = len(d20_list)\n",
    "print(d4_size)\n",
    "print(d6_size)\n",
    "print(d8_size)\n",
    "print(d10_size)\n",
    "print(d12_size)\n",
    "print(d20_size)"
   ]
  },
  {
   "cell_type": "code",
   "execution_count": 9,
   "metadata": {},
   "outputs": [],
   "source": [
    "begin = 0\n",
    "end = 0\n",
    "file_index = 0"
   ]
  },
  {
   "cell_type": "markdown",
   "metadata": {},
   "source": [
    "<h2>Training Subset Creation</h2>"
   ]
  },
  {
   "cell_type": "code",
   "execution_count": 10,
   "metadata": {},
   "outputs": [],
   "source": [
    "# make training directory\n",
    "os.mkdir('Datasets/train')"
   ]
  },
  {
   "cell_type": "code",
   "execution_count": 11,
   "metadata": {},
   "outputs": [
    {
     "name": "stderr",
     "output_type": "stream",
     "text": [
      "11470it [02:42, 70.39it/s]\n"
     ]
    }
   ],
   "source": [
    "# d4 images\n",
    "# find size of training set for dice\n",
    "size = int(math.floor(len(file_list) * train_split_ratio))\n",
    "end = begin + size\n",
    "# make folder in train\n",
    "os.mkdir('Datasets/train/d4')\n",
    "os.mkdir('Datasets/train/d6')\n",
    "os.mkdir('Datasets/train/d8')\n",
    "os.mkdir('Datasets/train/d10')\n",
    "os.mkdir('Datasets/train/d12')\n",
    "os.mkdir('Datasets/train/d20')\n",
    "for file, label in tqdm.tqdm(zip(file_list[begin:end], file_labels[begin:end])):\n",
    "    image = plt.imread(file)\n",
    "    plt.imsave('Datasets/train/' + label + '/' + str(file_index) + '.jpg', image)\n",
    "    #os.rename(file_list[rand_image], 'Datasets/train/' + file_labels[rand_image] + '/' + str(rand_image) + '.jpg')\n",
    "    #shutil.move('Datasets/Dice/dataset/d20/'+file_list[rand_image], 'Datasets/train\\\\d20\\\\'+file_list[rand_image])\n",
    "    #os.replace('Datasets/Dice/dataset/d20/'+file_list[rand_image], 'Datasets/train\\\\d20\\\\'+file_list[rand_image])\n",
    "    file_index = file_index + 1"
   ]
  },
  {
   "cell_type": "markdown",
   "metadata": {},
   "source": [
    "<h2>Testing Subset Creation</h2>"
   ]
  },
  {
   "cell_type": "code",
   "execution_count": 12,
   "metadata": {},
   "outputs": [],
   "source": [
    "# make training directory\n",
    "os.mkdir('Datasets/test')"
   ]
  },
  {
   "cell_type": "code",
   "execution_count": 13,
   "metadata": {},
   "outputs": [
    {
     "name": "stderr",
     "output_type": "stream",
     "text": [
      "1638it [00:23, 70.43it/s]\n"
     ]
    }
   ],
   "source": [
    "# d4 images\n",
    "# find size of training set for dice\n",
    "size = int(math.floor(len(file_list) * test_split_ratio))\n",
    "begin = end\n",
    "end = begin + size\n",
    "# make folder in train\n",
    "os.mkdir('Datasets/test/d4')\n",
    "os.mkdir('Datasets/test/d6')\n",
    "os.mkdir('Datasets/test/d8')\n",
    "os.mkdir('Datasets/test/d10')\n",
    "os.mkdir('Datasets/test/d12')\n",
    "os.mkdir('Datasets/test/d20')\n",
    "for file, label in tqdm.tqdm(zip(file_list[begin:end], file_labels[begin:end])):\n",
    "    image = plt.imread(file)\n",
    "    plt.imsave('Datasets/test/' + label + '/' + str(file_index) + '.jpg', image)\n",
    "    #os.rename(file_list[rand_image], 'Datasets/train/' + file_labels[rand_image] + '/' + str(rand_image) + '.jpg')\n",
    "    #shutil.move('Datasets/Dice/dataset/d20/'+file_list[rand_image], 'Datasets/train\\\\d20\\\\'+file_list[rand_image])\n",
    "    #os.replace('Datasets/Dice/dataset/d20/'+file_list[rand_image], 'Datasets/train\\\\d20\\\\'+file_list[rand_image])\n",
    "    file_index = file_index + 1"
   ]
  },
  {
   "cell_type": "markdown",
   "metadata": {},
   "source": [
    "<h2>Validation Subset Creation</h2>"
   ]
  },
  {
   "cell_type": "code",
   "execution_count": 14,
   "metadata": {},
   "outputs": [],
   "source": [
    "# make training directory\n",
    "os.mkdir('Datasets/val')"
   ]
  },
  {
   "cell_type": "code",
   "execution_count": 15,
   "metadata": {},
   "outputs": [
    {
     "name": "stderr",
     "output_type": "stream",
     "text": [
      "3278it [00:44, 72.88it/s]\n"
     ]
    }
   ],
   "source": [
    "# d4 images\n",
    "# find size of training set for dice\n",
    "size = int(math.floor(len(file_list) * validation_split_ratio))\n",
    "begin = end\n",
    "# make folder in train\n",
    "os.mkdir('Datasets/val/d4')\n",
    "os.mkdir('Datasets/val/d6')\n",
    "os.mkdir('Datasets/val/d8')\n",
    "os.mkdir('Datasets/val/d10')\n",
    "os.mkdir('Datasets/val/d12')\n",
    "os.mkdir('Datasets/val/d20')\n",
    "for file, label in tqdm.tqdm(zip(file_list[begin:], file_labels[begin:])):\n",
    "    image = plt.imread(file)\n",
    "    plt.imsave('Datasets/val/' + label + '/' + str(file_index) + '.jpg', image)\n",
    "    #os.rename(file_list[rand_image], 'Datasets/train/' + file_labels[rand_image] + '/' + str(rand_image) + '.jpg')\n",
    "    #shutil.move('Datasets/Dice/dataset/d20/'+file_list[rand_image], 'Datasets/train\\\\d20\\\\'+file_list[rand_image])\n",
    "    #os.replace('Datasets/Dice/dataset/d20/'+file_list[rand_image], 'Datasets/train\\\\d20\\\\'+file_list[rand_image])\n",
    "    file_index = file_index + 1"
   ]
  },
  {
   "cell_type": "code",
   "execution_count": 17,
   "metadata": {},
   "outputs": [],
   "source": [
    "import seaborn as sns"
   ]
  },
  {
   "cell_type": "code",
   "execution_count": 20,
   "metadata": {},
   "outputs": [],
   "source": [
    "# find files in each folder of dataset\n",
    "d4_list = os.listdir('Datasets/Dice/dataset/d4')\n",
    "d6_list = os.listdir('Datasets/Dice/dataset/d6')\n",
    "d8_list = os.listdir('Datasets/Dice/dataset/d8')\n",
    "d10_list = os.listdir('Datasets/Dice/dataset/d10')\n",
    "d12_list = os.listdir('Datasets/Dice/dataset/d12')\n",
    "d20_list = os.listdir('Datasets/Dice/dataset/d20')\n",
    "d4_size = len(d4_list)\n",
    "d6_size = len(d6_list)\n",
    "d8_size = len(d8_list)\n",
    "d10_size = len(d10_list)\n",
    "d12_size = len(d12_list)\n",
    "d20_size = len(d20_list)"
   ]
  },
  {
   "cell_type": "code",
   "execution_count": 21,
   "metadata": {},
   "outputs": [
    {
     "data": {
      "image/png": "[encoded data removed]",
      "text/plain": [
       "<Figure size 432x288 with 1 Axes>"
      ]
     },
     "metadata": {
      "needs_background": "light"
     },
     "output_type": "display_data"
    }
   ],
   "source": [
    "sns.barplot([0,1,2,3,4,5], [d4_size, d6_size, d8_size, d10_size, d12_size, d20_size])\n",
    "plt.xticks(range(6), ['d4', 'd6', 'd8', 'd10', 'd12', 'd20'])\n",
    "plt.title(\"Number of Samples Per Class\")\n",
    "plt.show()"
   ]
  },
  {
   "cell_type": "code",
   "execution_count": 18,
   "metadata": {},
   "outputs": [],
   "source": [
    "train_size = 0\n",
    "validation_size = 0\n",
    "test_size = 0\n",
    "# find size of training set\n",
    "d4_list = os.listdir('Datasets/train/d4')\n",
    "d6_list = os.listdir('Datasets/train/d6')\n",
    "d8_list = os.listdir('Datasets/train/d8')\n",
    "d10_list = os.listdir('Datasets/train/d10')\n",
    "d12_list = os.listdir('Datasets/train/d12')\n",
    "d20_list = os.listdir('Datasets/train/d20')\n",
    "d4_size = len(d4_list)\n",
    "d6_size = len(d6_list)\n",
    "d8_size = len(d8_list)\n",
    "d10_size = len(d10_list)\n",
    "d12_size = len(d12_list)\n",
    "d20_size = len(d20_list)\n",
    "train_size = d4_size + d6_size + d8_size + d10_size + d12_size + d20_size\n",
    "\n",
    "# find size of validation set\n",
    "d4_list = os.listdir('Datasets/val/d4')\n",
    "d6_list = os.listdir('Datasets/val/d6')\n",
    "d8_list = os.listdir('Datasets/val/d8')\n",
    "d10_list = os.listdir('Datasets/val/d10')\n",
    "d12_list = os.listdir('Datasets/val/d12')\n",
    "d20_list = os.listdir('Datasets/val/d20')\n",
    "d4_size = len(d4_list)\n",
    "d6_size = len(d6_list)\n",
    "d8_size = len(d8_list)\n",
    "d10_size = len(d10_list)\n",
    "d12_size = len(d12_list)\n",
    "d20_size = len(d20_list)\n",
    "validation_size = d4_size + d6_size + d8_size + d10_size + d12_size + d20_size\n",
    "\n",
    "# find size of test set\n",
    "d4_list = os.listdir('Datasets/test/d4')\n",
    "d6_list = os.listdir('Datasets/test/d6')\n",
    "d8_list = os.listdir('Datasets/test/d8')\n",
    "d10_list = os.listdir('Datasets/test/d10')\n",
    "d12_list = os.listdir('Datasets/test/d12')\n",
    "d20_list = os.listdir('Datasets/test/d20')\n",
    "d4_size = len(d4_list)\n",
    "d6_size = len(d6_list)\n",
    "d8_size = len(d8_list)\n",
    "d10_size = len(d10_list)\n",
    "d12_size = len(d12_list)\n",
    "d20_size = len(d20_list)\n",
    "test_size = d4_size + d6_size + d8_size + d10_size + d12_size + d20_size"
   ]
  },
  {
   "cell_type": "code",
   "execution_count": 19,
   "metadata": {},
   "outputs": [
    {
     "data": {
      "image/png": "[encoded data removed]",
      "text/plain": [
       "<Figure size 432x288 with 1 Axes>"
      ]
     },
     "metadata": {
      "needs_background": "light"
     },
     "output_type": "display_data"
    }
   ],
   "source": [
    "sns.barplot([0,1,2], [train_size, validation_size, test_size])\n",
    "plt.xticks(range(3), ['Training', 'Validation', 'Testing'])\n",
    "plt.title(\"Split of Data\")\n",
    "plt.show()"
   ]
  },
  {
   "cell_type": "code",
   "execution_count": 18,
   "metadata": {},
   "outputs": [
    {
     "data": {
      "image/png": "[encoded data removed]",
      "text/plain": [
       "<Figure size 432x288 with 1 Axes>"
      ]
     },
     "metadata": {
      "needs_background": "light"
     },
     "output_type": "display_data"
    },
    {
     "data": {
      "image/png": "[encoded data removed]",
      "text/plain": [
       "<Figure size 432x288 with 1 Axes>"
      ]
     },
     "metadata": {
      "needs_background": "light"
     },
     "output_type": "display_data"
    },
    {
     "data": {
      "image/png": "[encoded data removed]",
      "text/plain": [
       "<Figure size 432x288 with 1 Axes>"
      ]
     },
     "metadata": {
      "needs_background": "light"
     },
     "output_type": "display_data"
    }
   ],
   "source": [
    "train_size = 0\n",
    "validation_size = 0\n",
    "test_size = 0\n",
    "# find size of training set\n",
    "d4_list = os.listdir('Datasets/train/d4')\n",
    "d6_list = os.listdir('Datasets/train/d6')\n",
    "d8_list = os.listdir('Datasets/train/d8')\n",
    "d10_list = os.listdir('Datasets/train/d10')\n",
    "d12_list = os.listdir('Datasets/train/d12')\n",
    "d20_list = os.listdir('Datasets/train/d20')\n",
    "d4_size = len(d4_list)\n",
    "d6_size = len(d6_list)\n",
    "d8_size = len(d8_list)\n",
    "d10_size = len(d10_list)\n",
    "d12_size = len(d12_list)\n",
    "d20_size = len(d20_list)\n",
    "train_size = d4_size + d6_size + d8_size + d10_size + d12_size + d20_size\n",
    "sns.barplot([0,1,2,3,4,5], [d4_size, d6_size, d8_size, d10_size, d12_size, d20_size])\n",
    "plt.xticks(range(6), ['d4', 'd6', 'd8', 'd10', 'd12', 'd20'])\n",
    "plt.title(\"Training Set Frequenciew\")\n",
    "plt.show()\n",
    "\n",
    "# find size of validation set\n",
    "d4_list = os.listdir('Datasets/val/d4')\n",
    "d6_list = os.listdir('Datasets/val/d6')\n",
    "d8_list = os.listdir('Datasets/val/d8')\n",
    "d10_list = os.listdir('Datasets/val/d10')\n",
    "d12_list = os.listdir('Datasets/val/d12')\n",
    "d20_list = os.listdir('Datasets/val/d20')\n",
    "d4_size = len(d4_list)\n",
    "d6_size = len(d6_list)\n",
    "d8_size = len(d8_list)\n",
    "d10_size = len(d10_list)\n",
    "d12_size = len(d12_list)\n",
    "d20_size = len(d20_list)\n",
    "validation_size = d4_size + d6_size + d8_size + d10_size + d12_size + d20_size\n",
    "sns.barplot([0,1,2,3,4,5], [d4_size, d6_size, d8_size, d10_size, d12_size, d20_size])\n",
    "plt.xticks(range(6), ['d4', 'd6', 'd8', 'd10', 'd12', 'd20'])\n",
    "plt.title(\"Validation Set Frequencies\")\n",
    "plt.show()\n",
    "\n",
    "# find size of test set\n",
    "d4_list = os.listdir('Datasets/test/d4')\n",
    "d6_list = os.listdir('Datasets/test/d6')\n",
    "d8_list = os.listdir('Datasets/test/d8')\n",
    "d10_list = os.listdir('Datasets/test/d10')\n",
    "d12_list = os.listdir('Datasets/test/d12')\n",
    "d20_list = os.listdir('Datasets/test/d20')\n",
    "d4_size = len(d4_list)\n",
    "d6_size = len(d6_list)\n",
    "d8_size = len(d8_list)\n",
    "d10_size = len(d10_list)\n",
    "d12_size = len(d12_list)\n",
    "d20_size = len(d20_list)\n",
    "test_size = d4_size + d6_size + d8_size + d10_size + d12_size + d20_size\n",
    "sns.barplot([0,1,2,3,4,5], [d4_size, d6_size, d8_size, d10_size, d12_size, d20_size])\n",
    "plt.xticks(range(6), ['d4', 'd6', 'd8', 'd10', 'd12', 'd20'])\n",
    "plt.title(\"Testing Set Frequencies\")\n",
    "plt.show()"
   ]
  },
  {
   "cell_type": "code",
   "execution_count": null,
   "metadata": {},
   "outputs": [],
   "source": []
  },
  {
   "cell_type": "code",
   "execution_count": null,
   "metadata": {},
   "outputs": [],
   "source": []
  }
 ],
 "metadata": {
  "kernelspec": {
   "display_name": "Python 3",
   "language": "python",
   "name": "python3"
  },
  "language_info": {
   "codemirror_mode": {
    "name": "ipython",
    "version": 3
   },
   "file_extension": ".py",
   "mimetype": "text/x-python",
   "name": "python",
   "nbconvert_exporter": "python",
   "pygments_lexer": "ipython3",
   "version": "3.6.4"
  }
 },
 "nbformat": 4,
 "nbformat_minor": 4
}
